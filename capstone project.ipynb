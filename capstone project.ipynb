{
 "cells": [
  {
   "cell_type": "markdown",
   "metadata": {},
   "source": [
    "## Final Capstone Project"
   ]
  },
  {
   "cell_type": "markdown",
   "metadata": {},
   "source": [
    "### Business problem"
   ]
  },
  {
   "cell_type": "markdown",
   "metadata": {},
   "source": [
    "Given the surge of popularity with vegetarian food, I have teamed up with 3 partners to open a restaurant in Perth, Western Australia. \n",
    "\n",
    "Perth is an up and coming city so the number of vegetarian restaurants are still limited comapared to other capital cities in Australia. Given vegetarians are a minority compared to meat eaters, our goal would be open a restaurant in an area that is popular with diners but currently lacking in vegetarian options. \n",
    "\n",
    "We have also assumed that it is more likely that vegetarians are more common amongst higher income earners so the average household income from surrounding areas are also considered."
   ]
  },
  {
   "cell_type": "markdown",
   "metadata": {},
   "source": [
    "### Data"
   ]
  },
  {
   "cell_type": "markdown",
   "metadata": {},
   "source": [
    "We will be utilising Foursquare data to locate restaurants that have been described as vegetarian and locating suburbs where concentration of entertainment venues/restaurants is high.\n",
    "I will also be extracting data from the following URL to determine which suburbs are more affluent than others and overlay it with data from Foursquare\n",
    "https://www.microburbs.com.au/heat-map/average-income#115.89421648019166:-31.97605525547553:10"
   ]
  },
  {
   "cell_type": "code",
   "execution_count": null,
   "metadata": {},
   "outputs": [],
   "source": []
  }
 ],
 "metadata": {
  "kernelspec": {
   "display_name": "Python",
   "language": "python",
   "name": "conda-env-python-py"
  },
  "language_info": {
   "codemirror_mode": {
    "name": "ipython",
    "version": 3
   },
   "file_extension": ".py",
   "mimetype": "text/x-python",
   "name": "python",
   "nbconvert_exporter": "python",
   "pygments_lexer": "ipython3",
   "version": "3.6.7"
  }
 },
 "nbformat": 4,
 "nbformat_minor": 4
}
